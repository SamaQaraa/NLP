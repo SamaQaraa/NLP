{
  "nbformat": 4,
  "nbformat_minor": 0,
  "metadata": {
    "colab": {
      "provenance": []
    },
    "kernelspec": {
      "name": "python3",
      "display_name": "Python 3"
    },
    "language_info": {
      "name": "python"
    }
  },
  "cells": [
    {
      "cell_type": "code",
      "execution_count": 2,
      "metadata": {
        "colab": {
          "base_uri": "https://localhost:8080/"
        },
        "id": "oDEjly0gdHLK",
        "outputId": "97e5c072-3e1f-4cb5-e181-6a875e226aff"
      },
      "outputs": [
        {
          "output_type": "stream",
          "name": "stdout",
          "text": [
            "Requirement already satisfied: numpy==1.23.5 in /usr/local/lib/python3.11/dist-packages (1.23.5)\n",
            "Collecting gensim\n",
            "  Using cached gensim-4.3.3-cp311-cp311-manylinux_2_17_x86_64.manylinux2014_x86_64.whl.metadata (8.1 kB)\n",
            "Requirement already satisfied: numpy<2.0,>=1.18.5 in /usr/local/lib/python3.11/dist-packages (from gensim) (1.23.5)\n",
            "Requirement already satisfied: scipy<1.14.0,>=1.7.0 in /usr/local/lib/python3.11/dist-packages (from gensim) (1.13.1)\n",
            "Requirement already satisfied: smart-open>=1.8.1 in /usr/local/lib/python3.11/dist-packages (from gensim) (7.1.0)\n",
            "Requirement already satisfied: wrapt in /usr/local/lib/python3.11/dist-packages (from smart-open>=1.8.1->gensim) (1.17.2)\n",
            "Using cached gensim-4.3.3-cp311-cp311-manylinux_2_17_x86_64.manylinux2014_x86_64.whl (26.7 MB)\n",
            "Installing collected packages: gensim\n",
            "Successfully installed gensim-4.3.3\n"
          ]
        }
      ],
      "source": [
        "!pip install numpy==1.23.5\n",
        "!pip install --upgrade gensim"
      ]
    },
    {
      "cell_type": "code",
      "source": [
        "import gensim.downloader as api\n",
        "model = api.load('glove-wiki-gigaword-100')"
      ],
      "metadata": {
        "id": "RHNmBZKVdJW2"
      },
      "execution_count": 11,
      "outputs": []
    },
    {
      "cell_type": "code",
      "source": [
        "import numpy as np\n",
        "from gensim.models import KeyedVectors\n",
        "\n",
        "def cbow_predict(context_words, model, topn=5):\n",
        "    valid_vectors = [model[word] for word in context_words if word in model.key_to_index]\n",
        "    avg_vector = np.mean(valid_vectors, axis=0)\n",
        "    predictions = model.similar_by_vector(avg_vector, topn=topn)\n",
        "    predictions = [(word, score) for word, score in predictions if word not in context_words]\n",
        "    return predictions[:topn]"
      ],
      "metadata": {
        "id": "Wj0QpTr3dR_h"
      },
      "execution_count": 12,
      "outputs": []
    },
    {
      "cell_type": "code",
      "source": [
        "def skipgram_predict(target_word, model, topn=5):\n",
        "    if target_word not in model.key_to_index:\n",
        "        return []\n",
        "    predictions = model.most_similar(target_word, topn=topn)\n",
        "    return predictions[:topn]"
      ],
      "metadata": {
        "id": "BXQrplfsdXQd"
      },
      "execution_count": 13,
      "outputs": []
    },
    {
      "cell_type": "code",
      "source": [
        "\n",
        "print(cbow_predict([\"king\", \"queen\", \"woman\"], model))\n",
        "\n",
        "print(skipgram_predict(\"king\", model))"
      ],
      "metadata": {
        "colab": {
          "base_uri": "https://localhost:8080/"
        },
        "id": "R8sCh0qldaEc",
        "outputId": "04a7844c-1187-44a8-b566-5f2891a9e4fb"
      },
      "execution_count": 14,
      "outputs": [
        {
          "output_type": "stream",
          "name": "stdout",
          "text": [
            "[('mother', 0.7827009558677673), ('daughter', 0.7684858441352844), ('father', 0.7659348845481873)]\n",
            "[('prince', 0.7682328820228577), ('queen', 0.7507690787315369), ('son', 0.7020888328552246), ('brother', 0.6985775232315063), ('monarch', 0.6977890729904175)]\n"
          ]
        }
      ]
    },
    {
      "cell_type": "code",
      "source": [],
      "metadata": {
        "id": "dT2pNYaneBwb"
      },
      "execution_count": null,
      "outputs": []
    }
  ]
}
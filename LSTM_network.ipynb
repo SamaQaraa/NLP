{
  "cells": [
    {
      "cell_type": "markdown",
      "id": "9d7644b2",
      "metadata": {
        "id": "9d7644b2"
      },
      "source": [
        "## LSTM"
      ]
    },
    {
      "cell_type": "markdown",
      "id": "5d4d05e0",
      "metadata": {
        "id": "5d4d05e0"
      },
      "source": [
        "1. choose a dataset\n",
        "2. download and check the shape of the dataset\n",
        "4. clean the data if needed (hint: regex)\n",
        "5. decide the tokenization strategy (word , character , sub character)\n",
        "6. build the vocab\n",
        "7. build a wrapper around the dataset\n",
        "8. dataloader -> train[0] (input,label)\n",
        "9. Build network architecture\n",
        "10. Training loop\n",
        "11. evaluate\n"
      ]
    },
    {
      "cell_type": "code",
      "execution_count": 6,
      "id": "94398a55",
      "metadata": {
        "colab": {
          "base_uri": "https://localhost:8080/"
        },
        "id": "94398a55",
        "outputId": "fbe9708f-371b-4ba8-aefe-063eeed90fbe"
      },
      "outputs": [
        {
          "output_type": "stream",
          "name": "stdout",
          "text": [
            "Libraries imported successfully!\n"
          ]
        },
        {
          "output_type": "stream",
          "name": "stderr",
          "text": [
            "[nltk_data] Downloading package punkt_tab to /root/nltk_data...\n",
            "[nltk_data]   Unzipping tokenizers/punkt_tab.zip.\n"
          ]
        }
      ],
      "source": [
        "# -----------------------\n",
        "import torch\n",
        "import torch.nn as nn\n",
        "import torch.optim as optim\n",
        "from torch.utils.data import Dataset, DataLoader\n",
        "import numpy as np\n",
        "import pandas as pd\n",
        "import matplotlib.pyplot as plt\n",
        "from sklearn.model_selection import train_test_split\n",
        "from tqdm import tqdm\n",
        "from collections import Counter\n",
        "import re\n",
        "\n",
        "# For text preprocessing\n",
        "import nltk\n",
        "from nltk.tokenize import word_tokenize\n",
        "nltk.download('punkt_tab')\n",
        "\n",
        "# For loading datasets\n",
        "from datasets import load_dataset\n",
        "\n",
        "# Set random seed for reproducibility\n",
        "torch.manual_seed(42)\n",
        "np.random.seed(42)\n",
        "\n",
        "print(\"Libraries imported successfully!\")"
      ]
    },
    {
      "cell_type": "code",
      "execution_count": 7,
      "id": "c05864d1",
      "metadata": {
        "colab": {
          "base_uri": "https://localhost:8080/"
        },
        "id": "c05864d1",
        "outputId": "97d93e41-1e2b-4e83-fcc0-3f557c013fdc"
      },
      "outputs": [
        {
          "output_type": "stream",
          "name": "stdout",
          "text": [
            "Dataset loaded! Total training examples: 25000\n",
            "Sample review (text): I rented I AM CURIOUS-YELLOW from my video store because of all the controversy that surrounded it w...\n",
            "Sample label (0=negative, 1=positive): 0\n"
          ]
        }
      ],
      "source": [
        "from datasets import load_dataset\n",
        "\n",
        "# Download the dataset\n",
        "dataset = load_dataset(\"imdb\")\n",
        "\n",
        "# Get train and test data\n",
        "train_data = dataset[\"train\"]\n",
        "test_data = dataset[\"test\"]\n",
        "\n",
        "# Display sample data\n",
        "print(f\"Dataset loaded! Total training examples: {len(train_data)}\")\n",
        "print(f\"Sample review (text): {train_data[0]['text'][:100]}...\")\n",
        "print(f\"Sample label (0=negative, 1=positive): {train_data[0]['label']}\")\n"
      ]
    },
    {
      "cell_type": "code",
      "execution_count": 8,
      "id": "a19999ac",
      "metadata": {
        "colab": {
          "base_uri": "https://localhost:8080/"
        },
        "id": "a19999ac",
        "outputId": "77b1bbda-0ba2-4245-fcbe-3d4c50843e1f"
      },
      "outputs": [
        {
          "output_type": "stream",
          "name": "stderr",
          "text": [
            "100%|██████████| 25000/25000 [00:17<00:00, 1395.26it/s]\n",
            "100%|██████████| 25000/25000 [00:20<00:00, 1228.82it/s]"
          ]
        },
        {
          "output_type": "stream",
          "name": "stdout",
          "text": [
            "Data preprocessing complete! Example tokenized review: ['i', 'rented', 'i', 'am', 'curiousyellow', 'from', 'my', 'video', 'store', 'because', 'of', 'all', 'the', 'controversy', 'that']...\n",
            "Data preprocessing complete! Example tokenized label: 0...\n"
          ]
        },
        {
          "output_type": "stream",
          "name": "stderr",
          "text": [
            "\n"
          ]
        }
      ],
      "source": [
        "def preprocess_text(text):\n",
        "    \"\"\"Clean and tokenize the text\"\"\"\n",
        "    # Convert to lowercase\n",
        "    text = text.lower()\n",
        "    # Remove HTML tags\n",
        "    text = re.sub(r'<.*?>', '', text)\n",
        "    # Remove special characters and digits\n",
        "    text = re.sub(r'[^a-zA-Z\\s]', '', text)\n",
        "    # Tokenize\n",
        "    tokens = word_tokenize(text)\n",
        "    return tokens\n",
        "\n",
        "# Process training data\n",
        "train_reviews = []\n",
        "train_labels = []\n",
        "\n",
        "for sample in tqdm(train_data):\n",
        "    # Labels are already integers (0=negative, 1=positive)\n",
        "    label_int = sample['label']\n",
        "    train_labels.append(label_int)\n",
        "    # Preprocess text\n",
        "    tokens = preprocess_text(sample['text'])\n",
        "    train_reviews.append(tokens)\n",
        "\n",
        "# Process test data\n",
        "test_reviews = []\n",
        "test_labels = []\n",
        "\n",
        "for sample in tqdm(test_data):\n",
        "    label_int = sample['label']\n",
        "    test_labels.append(label_int)\n",
        "    tokens = preprocess_text(sample['text'])\n",
        "    test_reviews.append(tokens)\n",
        "\n",
        "print(f\"Data preprocessing complete! Example tokenized review: {train_reviews[0][:15]}...\")\n",
        "print(f\"Data preprocessing complete! Example tokenized label: {train_labels[0]}...\")\n"
      ]
    },
    {
      "cell_type": "code",
      "execution_count": 9,
      "id": "e766b8f1",
      "metadata": {
        "colab": {
          "base_uri": "https://localhost:8080/"
        },
        "id": "e766b8f1",
        "outputId": "56a1ec02-3c13-4f2c-b644-f67e1bbfe13f"
      },
      "outputs": [
        {
          "output_type": "stream",
          "name": "stdout",
          "text": [
            "Vocabulary created with 10000 words!\n",
            "Sample words: [('the', 2), ('and', 3), ('a', 4), ('of', 5), ('to', 6), ('is', 7), ('in', 8), ('it', 9), ('this', 10), ('i', 11)]\n"
          ]
        }
      ],
      "source": [
        "def build_vocab(reviews, max_words=10000):\n",
        "    \"\"\"Build a vocabulary of the most common words\"\"\"\n",
        "    word_count = Counter()\n",
        "\n",
        "    # Count all words\n",
        "    for review in reviews:\n",
        "        word_count.update(review)\n",
        "\n",
        "    # Select most common words\n",
        "    most_common = word_count.most_common(max_words - 2)  # -2 for <UNK> and <PAD>\n",
        "    vocab = {word: idx+2 for idx, (word, _) in enumerate(most_common)}\n",
        "\n",
        "    # Add special tokens\n",
        "    vocab['<PAD>'] = 0\n",
        "    vocab['<UNK>'] = 1\n",
        "\n",
        "    return vocab\n",
        "\n",
        "# Build vocabulary from training data\n",
        "vocab = build_vocab(train_reviews)\n",
        "vocab_size = len(vocab)\n",
        "\n",
        "print(f\"Vocabulary created with {vocab_size} words!\")\n",
        "print(f\"Sample words: {list(vocab.items())[:10]}\")\n",
        "\n",
        "# Create a reverse mapping for decoding\n",
        "idx_to_word = {idx: word for word, idx in vocab.items()}\n"
      ]
    },
    {
      "cell_type": "markdown",
      "id": "32fe5602",
      "metadata": {
        "id": "32fe5602"
      },
      "source": [
        "What should be the maximum length of my sequence aka review ??"
      ]
    },
    {
      "cell_type": "code",
      "execution_count": 10,
      "id": "9da70e5b",
      "metadata": {
        "colab": {
          "base_uri": "https://localhost:8080/",
          "height": 764
        },
        "id": "9da70e5b",
        "outputId": "a8b65c8a-7b8f-47c9-daf6-5106088b6b6c"
      },
      "outputs": [
        {
          "output_type": "stream",
          "name": "stdout",
          "text": [
            "Maximum review length: 2441\n",
            "Mean review length: 227.81\n",
            "Median review length: 170.0\n",
            "95th percentile length: 583.0\n"
          ]
        },
        {
          "output_type": "display_data",
          "data": {
            "text/plain": [
              "<Figure size 1000x600 with 1 Axes>"
            ],
            "image/png": "[encoded data removed]"
          },
          "metadata": {}
        },
        {
          "output_type": "stream",
          "name": "stdout",
          "text": [
            "Chosen max_len: 583\n"
          ]
        },
        {
          "output_type": "stream",
          "name": "stderr",
          "text": [
            "100%|██████████| 25000/25000 [00:00<00:00, 26886.50it/s]\n",
            "100%|██████████| 25000/25000 [00:01<00:00, 22934.10it/s]\n"
          ]
        },
        {
          "output_type": "stream",
          "name": "stdout",
          "text": [
            "Data encoding complete! Example sequence: tensor([  11, 1511,   11,  237,    1,   36,   59,  390, 1132,   78,    5,   31,\n",
            "           2, 6947,   12])...\n",
            "All sequences are now of length 583\n",
            "Reviews truncated: 1245 (4.98%)\n"
          ]
        }
      ],
      "source": [
        "# Analyze review lengths to determine optimal max_len\n",
        "review_lengths = [len(review) for review in train_reviews]\n",
        "max_review_length = max(review_lengths)\n",
        "mean_length = np.mean(review_lengths)\n",
        "median_length = np.median(review_lengths)\n",
        "p95_length = np.percentile(review_lengths, 95)\n",
        "\n",
        "print(f\"Maximum review length: {max_review_length}\")\n",
        "print(f\"Mean review length: {mean_length:.2f}\")\n",
        "print(f\"Median review length: {median_length}\")\n",
        "print(f\"95th percentile length: {p95_length}\")\n",
        "\n",
        "# Plotting the distribution of review lengths\n",
        "plt.figure(figsize=(10, 6))\n",
        "plt.hist(review_lengths, bins=50)\n",
        "plt.axvline(x=max_review_length, color='r', linestyle='--', label=f'Max: {max_review_length}')\n",
        "plt.axvline(x=p95_length, color='g', linestyle='--', label=f'95th: {p95_length:.0f}')\n",
        "plt.axvline(x=median_length, color='b', linestyle='--', label=f'Median: {median_length}')\n",
        "plt.title(\"Distribution of Review Lengths\")\n",
        "plt.xlabel(\"Length (number of tokens)\")\n",
        "plt.ylabel(\"Count\")\n",
        "plt.legend()\n",
        "plt.grid(True, alpha=0.3)\n",
        "plt.show()\n",
        "\n",
        "# Choose max_len based on 95th percentile to avoid excessive padding\n",
        "# while still covering most reviews without truncation\n",
        "chosen_max_len = int(p95_length)\n",
        "print(f\"Chosen max_len: {chosen_max_len}\")\n",
        "\n",
        "def encode_review(review, vocab, max_len=None):\n",
        "    \"\"\"Convert a review to a fixed-length sequence of integers\"\"\"\n",
        "    # Use the chosen max_len from analysis if none provided\n",
        "    if max_len is None:\n",
        "        max_len = chosen_max_len\n",
        "\n",
        "    # Encode words, use <UNK> for unknown words\n",
        "    encoded = [vocab.get(word, vocab['<UNK>']) for word in review[:max_len]]\n",
        "\n",
        "    # Pad sequences to the same length\n",
        "    if len(encoded) < max_len:\n",
        "        encoded += [vocab['<PAD>']] * (max_len - len(encoded))\n",
        "\n",
        "    return encoded\n",
        "\n",
        "# Encode all reviews using the dynamically determined max_len\n",
        "train_encoded = [encode_review(review, vocab) for review in tqdm(train_reviews)]\n",
        "test_encoded = [encode_review(review, vocab) for review in tqdm(test_reviews)]\n",
        "\n",
        "# Convert to tensors\n",
        "train_sequences = torch.tensor(train_encoded, dtype=torch.long)\n",
        "train_labels_tensor = torch.tensor(train_labels, dtype=torch.float)\n",
        "test_sequences = torch.tensor(test_encoded, dtype=torch.long)\n",
        "test_labels_tensor = torch.tensor(test_labels, dtype=torch.float)\n",
        "\n",
        "print(f\"Data encoding complete! Example sequence: {train_sequences[0][:15]}...\")\n",
        "print(f\"All sequences are now of length {chosen_max_len}\")\n",
        "\n",
        "# Calculate how many reviews were truncated\n",
        "truncated_count = sum(1 for length in review_lengths if length > chosen_max_len)\n",
        "truncated_percentage = (truncated_count / len(review_lengths)) * 100\n",
        "print(f\"Reviews truncated: {truncated_count} ({truncated_percentage:.2f}%)\")\n"
      ]
    },
    {
      "cell_type": "code",
      "execution_count": 11,
      "id": "0b3c6929",
      "metadata": {
        "colab": {
          "base_uri": "https://localhost:8080/"
        },
        "id": "0b3c6929",
        "outputId": "d6d72a66-0661-4f28-9eb2-2d8a04d3bd1c"
      },
      "outputs": [
        {
          "output_type": "stream",
          "name": "stderr",
          "text": [
            "100%|██████████| 25000/25000 [00:00<00:00, 25258.26it/s]\n",
            "100%|██████████| 25000/25000 [00:01<00:00, 18102.35it/s]\n"
          ]
        },
        {
          "output_type": "stream",
          "name": "stdout",
          "text": [
            "Data encoding complete! Example sequence: tensor([  11, 1511,   11,  237,    1,   36,   59,  390, 1132,   78,    5,   31,\n",
            "           2, 6947,   12])...\n"
          ]
        }
      ],
      "source": [
        "def encode_review(review, vocab, max_len=200):\n",
        "    \"\"\"Convert a review to a fixed-length sequence of integers\"\"\"\n",
        "    # Encode words, use <UNK> for unknown words\n",
        "    encoded = [vocab.get(word, vocab['<UNK>']) for word in review[:max_len]]\n",
        "\n",
        "    # Pad sequences to the same length\n",
        "    if len(encoded) < max_len:\n",
        "        encoded += [vocab['<PAD>']] * (max_len - len(encoded))\n",
        "\n",
        "    return encoded\n",
        "\n",
        "# Encode all reviews\n",
        "train_encoded = [encode_review(review, vocab) for review in tqdm(train_reviews)]\n",
        "test_encoded = [encode_review(review, vocab) for review in tqdm(test_reviews)]\n",
        "\n",
        "# Convert to tensors\n",
        "train_sequences = torch.tensor(train_encoded, dtype=torch.long)\n",
        "train_labels_tensor = torch.tensor(train_labels, dtype=torch.float)\n",
        "test_sequences = torch.tensor(test_encoded, dtype=torch.long)\n",
        "test_labels_tensor = torch.tensor(test_labels, dtype=torch.float)\n",
        "\n",
        "print(f\"Data encoding complete! Example sequence: {train_sequences[0][:15]}...\")\n"
      ]
    },
    {
      "cell_type": "code",
      "execution_count": 12,
      "id": "a1e8d0db",
      "metadata": {
        "colab": {
          "base_uri": "https://localhost:8080/"
        },
        "id": "a1e8d0db",
        "outputId": "88df1ccb-4a32-4814-c5c8-d1f6171c9a57"
      },
      "outputs": [
        {
          "output_type": "stream",
          "name": "stdout",
          "text": [
            "DataLoaders created! Training batches: 352\n"
          ]
        }
      ],
      "source": [
        "class IMDbDataset(Dataset):\n",
        "    def __init__(self, sequences, labels):\n",
        "        self.sequences = sequences\n",
        "        self.labels = labels\n",
        "\n",
        "    def __len__(self):\n",
        "        return len(self.sequences)\n",
        "\n",
        "    def __getitem__(self, idx):\n",
        "        return self.sequences[idx], self.labels[idx]\n",
        "\n",
        "# Create train/validation split\n",
        "train_seq, val_seq, train_labels, val_labels = train_test_split(\n",
        "    train_sequences, train_labels_tensor, test_size=0.1, random_state=42\n",
        ")\n",
        "\n",
        "# Create datasets\n",
        "train_dataset = IMDbDataset(train_seq, train_labels)\n",
        "val_dataset = IMDbDataset(val_seq, val_labels)\n",
        "test_dataset = IMDbDataset(test_sequences, test_labels_tensor)\n",
        "\n",
        "# Create dataloaders\n",
        "batch_size = 64\n",
        "train_loader = DataLoader(train_dataset, batch_size=batch_size, shuffle=True)\n",
        "val_loader = DataLoader(val_dataset, batch_size=batch_size)\n",
        "test_loader = DataLoader(test_dataset, batch_size=batch_size)\n",
        "\n",
        "print(f\"DataLoaders created! Training batches: {len(train_loader)}\")\n"
      ]
    },
    {
      "cell_type": "code",
      "execution_count": 62,
      "id": "9bf1355b",
      "metadata": {
        "colab": {
          "base_uri": "https://localhost:8080/"
        },
        "id": "9bf1355b",
        "outputId": "73f3c0ae-e346-43ca-d702-618ab4448c2f"
      },
      "outputs": [
        {
          "output_type": "stream",
          "name": "stdout",
          "text": [
            "Model created and moved to cuda!\n",
            "SentimentLSTM(\n",
            "  (embedding): Embedding(10000, 100, padding_idx=0)\n",
            "  (lstm): LSTM(100, 256, num_layers=2, batch_first=True, dropout=0.5)\n",
            "  (dropout): Dropout(p=0.5, inplace=False)\n",
            "  (fc): Linear(in_features=256, out_features=1, bias=True)\n",
            ")\n"
          ]
        }
      ],
      "source": [
        "class SentimentLSTM(nn.Module):\n",
        "    def __init__(self, vocab_size, embedding_dim, hidden_dim, output_dim, n_layers=1, bidirectional=False, dropout=0.5):\n",
        "        super().__init__()\n",
        "\n",
        "        # Embedding layer\n",
        "        self.embedding = nn.Embedding(vocab_size, embedding_dim, padding_idx=0)\n",
        "        self.bidirectional = bidirectional\n",
        "\n",
        "        # LSTM layer\n",
        "        self.lstm = nn.LSTM(embedding_dim,\n",
        "                        hidden_dim,\n",
        "                        num_layers=n_layers,\n",
        "                        bidirectional=bidirectional,\n",
        "                        dropout=dropout if n_layers > 1 else 0,\n",
        "                        batch_first=True)\n",
        "\n",
        "        # Dropout layer\n",
        "        self.dropout = nn.Dropout(dropout)\n",
        "\n",
        "        # Pass through linear layer\n",
        "        self.fc = nn.Linear(hidden_dim * 2 if bidirectional else hidden_dim, output_dim)\n",
        "\n",
        "    def forward(self, text):\n",
        "        # text shape: [batch_size, seq_len]\n",
        "        # Embed the text\n",
        "        embedded = self.embedding(text)  # [batch_size, seq_len, embedding_dim]\n",
        "\n",
        "        # Pass through LSTM\n",
        "        lstm_out, (hidden, cell) = self.lstm(embedded)\n",
        "        # hidden shape: [n_layers, batch_size, hidden_dim]\n",
        "\n",
        "\n",
        "        # If bidirectional, concatenate the final forward and backward hidden states\n",
        "        if self.bidirectional:\n",
        "            hidden = torch.cat((hidden[-2, :, :], hidden[-1, :, :]), dim=1)  # Concatenate forward and backward\n",
        "        else:\n",
        "            hidden = hidden[-1, :, :]\n",
        "\n",
        "\n",
        "        # Use the final hidden state\n",
        "        hidden = self.dropout(hidden)  # [batch_size, hidden_dim]\n",
        "\n",
        "\n",
        "        return self.fc(hidden)  # [batch_size, output_dim]\n",
        "\n",
        "# Initialize model\n",
        "embedding_dim = 100\n",
        "hidden_dim = 256\n",
        "output_dim = 1\n",
        "n_layers = 2\n",
        "bidirectional=False\n",
        "dropout=0.5\n",
        "\n",
        "model = SentimentLSTM(\n",
        "    vocab_size=vocab_size,\n",
        "    embedding_dim=embedding_dim,\n",
        "    hidden_dim=hidden_dim,\n",
        "    output_dim=output_dim,\n",
        "    n_layers=n_layers,\n",
        "    bidirectional=bidirectional,\n",
        "    dropout=dropout\n",
        ")\n",
        "\n",
        "# Move model to GPU if available\n",
        "device = torch.device('cuda' if torch.cuda.is_available() else 'cpu')\n",
        "model = model.to(device)\n",
        "print(f\"Model created and moved to {device}!\")\n",
        "print(model)"
      ]
    },
    {
      "cell_type": "code",
      "execution_count": 63,
      "id": "f569f559",
      "metadata": {
        "colab": {
          "base_uri": "https://localhost:8080/"
        },
        "id": "f569f559",
        "outputId": "23380a55-c86d-4fda-b106-adbe6c05d5d2"
      },
      "outputs": [
        {
          "output_type": "stream",
          "name": "stdout",
          "text": [
            "Loss function and optimizer defined!\n"
          ]
        }
      ],
      "source": [
        "# Binary Cross Entropy Loss\n",
        "criterion = nn.BCEWithLogitsLoss()\n",
        "\n",
        "# Adam optimizer\n",
        "optimizer = optim.Adam(model.parameters(), lr=0.001)\n",
        "\n",
        "print(\"Loss function and optimizer defined!\")"
      ]
    },
    {
      "cell_type": "code",
      "execution_count": 64,
      "id": "fb9a7f8d",
      "metadata": {
        "id": "fb9a7f8d"
      },
      "outputs": [],
      "source": [
        "def train(model, iterator, optimizer, criterion):\n",
        "    \"\"\"Training function for one epoch\"\"\"\n",
        "    # Set model to training mode\n",
        "    model.train()\n",
        "\n",
        "    # Track loss\n",
        "    epoch_loss = 0\n",
        "    epoch_acc = 0\n",
        "\n",
        "    # Iterate over batches\n",
        "    for batch in tqdm(iterator, desc=\"Training\"):\n",
        "        # Get batch data\n",
        "        text, labels = batch\n",
        "        text, labels = text.to(device), labels.to(device)\n",
        "\n",
        "        # Zero gradients\n",
        "        optimizer.zero_grad()\n",
        "\n",
        "        # Forward pass\n",
        "        predictions = model(text).squeeze(1)\n",
        "\n",
        "        # Calculate loss\n",
        "        loss = criterion(predictions, labels)\n",
        "\n",
        "        # Calculate accuracy\n",
        "        predicted_classes = torch.round(torch.sigmoid(predictions))\n",
        "        correct = (predicted_classes == labels).float()\n",
        "        accuracy = correct.sum() / len(correct)\n",
        "\n",
        "        # Backward pass\n",
        "        loss.backward()\n",
        "\n",
        "        # Update parameters\n",
        "        optimizer.step()\n",
        "\n",
        "        # Update metrics\n",
        "        epoch_loss += loss.item()\n",
        "        epoch_acc += accuracy.item()\n",
        "\n",
        "    # Return average loss and accuracy\n",
        "    return epoch_loss / len(iterator), epoch_acc / len(iterator)\n"
      ]
    },
    {
      "cell_type": "code",
      "execution_count": 65,
      "id": "dffd9f3d",
      "metadata": {
        "id": "dffd9f3d"
      },
      "outputs": [],
      "source": [
        "def evaluate(model, iterator, criterion):\n",
        "    \"\"\"Evaluation function\"\"\"\n",
        "    # Set model to evaluation mode\n",
        "    model.eval()\n",
        "\n",
        "    # Track loss\n",
        "    epoch_loss = 0\n",
        "    epoch_acc = 0\n",
        "\n",
        "    # No gradients needed for evaluation\n",
        "    with torch.no_grad():\n",
        "        # Iterate over batches\n",
        "        for batch in tqdm(iterator, desc=\"Evaluating\"):\n",
        "            # Get batch data\n",
        "            text, labels = batch\n",
        "            text, labels = text.to(device), labels.to(device)\n",
        "\n",
        "            # Forward pass\n",
        "            predictions = model(text).squeeze(1)\n",
        "\n",
        "            # Calculate loss\n",
        "            loss = criterion(predictions, labels)\n",
        "\n",
        "            # Calculate accuracy\n",
        "            predicted_classes = torch.round(torch.sigmoid(predictions))\n",
        "            correct = (predicted_classes == labels).float()\n",
        "            accuracy = correct.sum() / len(correct)\n",
        "\n",
        "            # Update metrics\n",
        "            epoch_loss += loss.item()\n",
        "            epoch_acc += accuracy.item()\n",
        "\n",
        "    # Return average loss and accuracy\n",
        "    return epoch_loss / len(iterator), epoch_acc / len(iterator)\n"
      ]
    },
    {
      "cell_type": "code",
      "execution_count": 66,
      "id": "29851811",
      "metadata": {
        "colab": {
          "base_uri": "https://localhost:8080/"
        },
        "id": "29851811",
        "outputId": "318f5a15-f90a-4f6e-b5c8-0cab74905fb2"
      },
      "outputs": [
        {
          "output_type": "stream",
          "name": "stdout",
          "text": [
            "\n",
            "Epoch 1/15\n",
            "--------------------\n"
          ]
        },
        {
          "output_type": "stream",
          "name": "stderr",
          "text": [
            "Training: 100%|██████████| 352/352 [00:12<00:00, 28.39it/s]\n",
            "Evaluating: 100%|██████████| 40/40 [00:00<00:00, 73.97it/s]\n"
          ]
        },
        {
          "output_type": "stream",
          "name": "stdout",
          "text": [
            "Train Loss: 0.6915 | Train Acc: 51.54%\n",
            "Val Loss: 0.6929 | Val Acc: 51.76%\n",
            "\n",
            "Epoch 2/15\n",
            "--------------------\n"
          ]
        },
        {
          "output_type": "stream",
          "name": "stderr",
          "text": [
            "Training: 100%|██████████| 352/352 [00:12<00:00, 27.92it/s]\n",
            "Evaluating: 100%|██████████| 40/40 [00:00<00:00, 72.63it/s]\n"
          ]
        },
        {
          "output_type": "stream",
          "name": "stdout",
          "text": [
            "Train Loss: 0.6922 | Train Acc: 52.04%\n",
            "Val Loss: 0.6869 | Val Acc: 49.77%\n",
            "\n",
            "Epoch 3/15\n",
            "--------------------\n"
          ]
        },
        {
          "output_type": "stream",
          "name": "stderr",
          "text": [
            "Training: 100%|██████████| 352/352 [00:12<00:00, 28.37it/s]\n",
            "Evaluating: 100%|██████████| 40/40 [00:00<00:00, 75.18it/s]\n"
          ]
        },
        {
          "output_type": "stream",
          "name": "stdout",
          "text": [
            "Train Loss: 0.6851 | Train Acc: 54.49%\n",
            "Val Loss: 0.6883 | Val Acc: 55.23%\n",
            "\n",
            "Epoch 4/15\n",
            "--------------------\n"
          ]
        },
        {
          "output_type": "stream",
          "name": "stderr",
          "text": [
            "Training: 100%|██████████| 352/352 [00:12<00:00, 28.83it/s]\n",
            "Evaluating: 100%|██████████| 40/40 [00:00<00:00, 75.66it/s]\n"
          ]
        },
        {
          "output_type": "stream",
          "name": "stdout",
          "text": [
            "Train Loss: 0.6800 | Train Acc: 56.12%\n",
            "Val Loss: 0.6723 | Val Acc: 60.35%\n",
            "\n",
            "Epoch 5/15\n",
            "--------------------\n"
          ]
        },
        {
          "output_type": "stream",
          "name": "stderr",
          "text": [
            "Training: 100%|██████████| 352/352 [00:12<00:00, 29.13it/s]\n",
            "Evaluating: 100%|██████████| 40/40 [00:00<00:00, 76.73it/s]\n"
          ]
        },
        {
          "output_type": "stream",
          "name": "stdout",
          "text": [
            "Train Loss: 0.6835 | Train Acc: 53.19%\n",
            "Val Loss: 0.6924 | Val Acc: 51.37%\n",
            "\n",
            "Epoch 6/15\n",
            "--------------------\n"
          ]
        },
        {
          "output_type": "stream",
          "name": "stderr",
          "text": [
            "Training: 100%|██████████| 352/352 [00:12<00:00, 29.20it/s]\n",
            "Evaluating: 100%|██████████| 40/40 [00:00<00:00, 77.12it/s]\n"
          ]
        },
        {
          "output_type": "stream",
          "name": "stdout",
          "text": [
            "Train Loss: 0.6924 | Train Acc: 51.27%\n",
            "Val Loss: 0.6952 | Val Acc: 48.71%\n",
            "\n",
            "Epoch 7/15\n",
            "--------------------\n"
          ]
        },
        {
          "output_type": "stream",
          "name": "stderr",
          "text": [
            "Training: 100%|██████████| 352/352 [00:12<00:00, 29.02it/s]\n",
            "Evaluating: 100%|██████████| 40/40 [00:00<00:00, 75.51it/s]\n"
          ]
        },
        {
          "output_type": "stream",
          "name": "stdout",
          "text": [
            "Train Loss: 0.6910 | Train Acc: 53.21%\n",
            "Val Loss: 0.6916 | Val Acc: 51.48%\n",
            "\n",
            "Epoch 8/15\n",
            "--------------------\n"
          ]
        },
        {
          "output_type": "stream",
          "name": "stderr",
          "text": [
            "Training: 100%|██████████| 352/352 [00:12<00:00, 28.79it/s]\n",
            "Evaluating: 100%|██████████| 40/40 [00:00<00:00, 75.57it/s]\n"
          ]
        },
        {
          "output_type": "stream",
          "name": "stdout",
          "text": [
            "Train Loss: 0.6907 | Train Acc: 52.57%\n",
            "Val Loss: 0.6925 | Val Acc: 51.72%\n",
            "\n",
            "Epoch 9/15\n",
            "--------------------\n"
          ]
        },
        {
          "output_type": "stream",
          "name": "stderr",
          "text": [
            "Training: 100%|██████████| 352/352 [00:12<00:00, 28.79it/s]\n",
            "Evaluating: 100%|██████████| 40/40 [00:00<00:00, 76.09it/s]\n"
          ]
        },
        {
          "output_type": "stream",
          "name": "stdout",
          "text": [
            "Train Loss: 0.6856 | Train Acc: 54.34%\n",
            "Val Loss: 0.6654 | Val Acc: 57.66%\n",
            "\n",
            "Epoch 10/15\n",
            "--------------------\n"
          ]
        },
        {
          "output_type": "stream",
          "name": "stderr",
          "text": [
            "Training: 100%|██████████| 352/352 [00:12<00:00, 27.68it/s]\n",
            "Evaluating: 100%|██████████| 40/40 [00:00<00:00, 76.61it/s]\n"
          ]
        },
        {
          "output_type": "stream",
          "name": "stdout",
          "text": [
            "Train Loss: 0.6793 | Train Acc: 56.38%\n",
            "Val Loss: 0.7142 | Val Acc: 56.37%\n",
            "\n",
            "Epoch 11/15\n",
            "--------------------\n"
          ]
        },
        {
          "output_type": "stream",
          "name": "stderr",
          "text": [
            "Training: 100%|██████████| 352/352 [00:12<00:00, 28.84it/s]\n",
            "Evaluating: 100%|██████████| 40/40 [00:00<00:00, 76.20it/s]\n"
          ]
        },
        {
          "output_type": "stream",
          "name": "stdout",
          "text": [
            "Train Loss: 0.6204 | Train Acc: 66.91%\n",
            "Val Loss: 0.6637 | Val Acc: 63.01%\n",
            "\n",
            "Epoch 12/15\n",
            "--------------------\n"
          ]
        },
        {
          "output_type": "stream",
          "name": "stderr",
          "text": [
            "Training: 100%|██████████| 352/352 [00:12<00:00, 28.93it/s]\n",
            "Evaluating: 100%|██████████| 40/40 [00:00<00:00, 77.02it/s]\n"
          ]
        },
        {
          "output_type": "stream",
          "name": "stdout",
          "text": [
            "Train Loss: 0.4904 | Train Acc: 77.78%\n",
            "Val Loss: 0.4374 | Val Acc: 81.88%\n",
            "\n",
            "Epoch 13/15\n",
            "--------------------\n"
          ]
        },
        {
          "output_type": "stream",
          "name": "stderr",
          "text": [
            "Training: 100%|██████████| 352/352 [00:12<00:00, 28.97it/s]\n",
            "Evaluating: 100%|██████████| 40/40 [00:00<00:00, 77.05it/s]\n"
          ]
        },
        {
          "output_type": "stream",
          "name": "stdout",
          "text": [
            "Train Loss: 0.3764 | Train Acc: 84.65%\n",
            "Val Loss: 0.3755 | Val Acc: 83.79%\n",
            "\n",
            "Epoch 14/15\n",
            "--------------------\n"
          ]
        },
        {
          "output_type": "stream",
          "name": "stderr",
          "text": [
            "Training: 100%|██████████| 352/352 [00:12<00:00, 28.94it/s]\n",
            "Evaluating: 100%|██████████| 40/40 [00:00<00:00, 76.99it/s]\n"
          ]
        },
        {
          "output_type": "stream",
          "name": "stdout",
          "text": [
            "Train Loss: 0.3028 | Train Acc: 88.05%\n",
            "Val Loss: 0.3708 | Val Acc: 83.63%\n",
            "\n",
            "Epoch 15/15\n",
            "--------------------\n"
          ]
        },
        {
          "output_type": "stream",
          "name": "stderr",
          "text": [
            "Training: 100%|██████████| 352/352 [00:12<00:00, 28.95it/s]\n",
            "Evaluating: 100%|██████████| 40/40 [00:00<00:00, 75.48it/s]"
          ]
        },
        {
          "output_type": "stream",
          "name": "stdout",
          "text": [
            "Train Loss: 0.2592 | Train Acc: 90.03%\n",
            "Val Loss: 0.3730 | Val Acc: 85.62%\n",
            "\n",
            "Training complete!\n"
          ]
        },
        {
          "output_type": "stream",
          "name": "stderr",
          "text": [
            "\n"
          ]
        }
      ],
      "source": [
        "n_epochs = 15\n",
        "\n",
        "# Lists to store metrics\n",
        "train_losses = []\n",
        "train_accs = []\n",
        "val_losses = []\n",
        "val_accs = []\n",
        "\n",
        "# Training loop\n",
        "for epoch in range(n_epochs):\n",
        "    print(f\"\\nEpoch {epoch+1}/{n_epochs}\")\n",
        "    print(\"-\" * 20)\n",
        "\n",
        "    # Train\n",
        "    train_loss, train_acc = train(model, train_loader, optimizer, criterion)\n",
        "    train_losses.append(train_loss)\n",
        "    train_accs.append(train_acc)\n",
        "\n",
        "    # Evaluate\n",
        "    val_loss, val_acc = evaluate(model, val_loader, criterion)\n",
        "    val_losses.append(val_loss)\n",
        "    val_accs.append(val_acc)\n",
        "\n",
        "    # Print metrics\n",
        "    print(f\"Train Loss: {train_loss:.4f} | Train Acc: {train_acc*100:.2f}%\")\n",
        "    print(f\"Val Loss: {val_loss:.4f} | Val Acc: {val_acc*100:.2f}%\")\n",
        "\n",
        "print(\"\\nTraining complete!\")"
      ]
    },
    {
      "cell_type": "code",
      "execution_count": 67,
      "id": "2ce6f786",
      "metadata": {
        "colab": {
          "base_uri": "https://localhost:8080/",
          "height": 507
        },
        "id": "2ce6f786",
        "outputId": "85747834-945a-4f66-c5c0-0aeb29f2366e"
      },
      "outputs": [
        {
          "output_type": "display_data",
          "data": {
            "text/plain": [
              "<Figure size 1200x500 with 2 Axes>"
            ],
            "image/png": "[encoded data removed]"
          },
          "metadata": {}
        }
      ],
      "source": [
        "plt.figure(figsize=(12, 5))\n",
        "\n",
        "# Plot loss\n",
        "plt.subplot(1, 2, 1)\n",
        "plt.plot(train_losses, label='Train Loss')\n",
        "plt.plot(val_losses, label='Val Loss')\n",
        "plt.xlabel('Epoch')\n",
        "plt.ylabel('Loss')\n",
        "plt.title('Training and Validation Loss')\n",
        "plt.legend()\n",
        "\n",
        "# Plot accuracy\n",
        "plt.subplot(1, 2, 2)\n",
        "plt.plot(train_accs, label='Train Acc')\n",
        "plt.plot(val_accs, label='Val Acc')\n",
        "plt.xlabel('Epoch')\n",
        "plt.ylabel('Accuracy')\n",
        "plt.title('Training and Validation Accuracy')\n",
        "plt.legend()\n",
        "\n",
        "plt.tight_layout()\n",
        "plt.show()\n"
      ]
    },
    {
      "cell_type": "code",
      "execution_count": 68,
      "id": "303abcdb",
      "metadata": {
        "colab": {
          "base_uri": "https://localhost:8080/"
        },
        "id": "303abcdb",
        "outputId": "21355e92-c456-4a05-812e-6974ecf214ce"
      },
      "outputs": [
        {
          "output_type": "stream",
          "name": "stderr",
          "text": [
            "Evaluating: 100%|██████████| 391/391 [00:05<00:00, 73.61it/s]"
          ]
        },
        {
          "output_type": "stream",
          "name": "stdout",
          "text": [
            "Test Loss: 0.3950 | Test Acc: 84.25%\n"
          ]
        },
        {
          "output_type": "stream",
          "name": "stderr",
          "text": [
            "\n"
          ]
        }
      ],
      "source": [
        "test_loss, test_acc = evaluate(model, test_loader, criterion)\n",
        "print(f\"Test Loss: {test_loss:.4f} | Test Acc: {test_acc*100:.2f}%\")\n"
      ]
    },
    {
      "cell_type": "code",
      "execution_count": 69,
      "id": "16edbcdd",
      "metadata": {
        "colab": {
          "base_uri": "https://localhost:8080/"
        },
        "id": "16edbcdd",
        "outputId": "cf519249-5ffb-45b9-a4ca-ae4b36b765c3"
      },
      "outputs": [
        {
          "output_type": "stream",
          "name": "stdout",
          "text": [
            "Model predictions on sample reviews:\n",
            "Review: This movie was absolutely amazing! The acting was ...\n",
            "Sentiment: Positive (probability: 0.9832)\n",
            "--------------------------------------------------\n",
            "Review: I was thoroughly disappointed with this film. The ...\n",
            "Sentiment: Negative (probability: 0.0222)\n",
            "--------------------------------------------------\n",
            "Review: It was okay. Nothing special but not terrible eith...\n",
            "Sentiment: Negative (probability: 0.0444)\n",
            "--------------------------------------------------\n",
            "Review: Despite some flaws in the plot, the movie had grea...\n",
            "Sentiment: Positive (probability: 0.9544)\n",
            "--------------------------------------------------\n"
          ]
        }
      ],
      "source": [
        "def predict_sentiment(model, text, vocab, max_len=200):\n",
        "    \"\"\"Predict sentiment for a single text input\"\"\"\n",
        "    # Preprocess\n",
        "    tokens = preprocess_text(text)\n",
        "    # Encode\n",
        "    encoded = encode_review(tokens, vocab, max_len)\n",
        "    # Convert to tensor\n",
        "    tensor = torch.tensor(encoded).unsqueeze(0).to(device)  # Add batch dimension\n",
        "\n",
        "    # Set model to evaluation mode\n",
        "    model.eval()\n",
        "\n",
        "    # Get prediction\n",
        "    with torch.no_grad():\n",
        "        prediction = torch.sigmoid(model(tensor).squeeze(1))\n",
        "\n",
        "    # Return probability and sentiment\n",
        "    probability = prediction.item()\n",
        "    sentiment = \"Positive\" if probability >= 0.5 else \"Negative\"\n",
        "\n",
        "    return probability, sentiment\n",
        "\n",
        "# Test on some examples\n",
        "sample_reviews = [\n",
        "    \"This movie was absolutely amazing! The acting was superb and the plot was engaging.\",\n",
        "    \"I was thoroughly disappointed with this film. The story made no sense and the acting was terrible.\",\n",
        "    \"It was okay. Nothing special but not terrible either.\",\n",
        "    \"Despite some flaws in the plot, the movie had great visual effects and good performances.\"\n",
        "]\n",
        "\n",
        "print(\"Model predictions on sample reviews:\")\n",
        "for review in sample_reviews:\n",
        "    prob, sent = predict_sentiment(model, review, vocab)\n",
        "    print(f\"Review: {review[:50]}...\")\n",
        "    print(f\"Sentiment: {sent} (probability: {prob:.4f})\")\n",
        "    print(\"-\" * 50)\n"
      ]
    },
    {
      "cell_type": "code",
      "source": [],
      "metadata": {
        "id": "4sQlndD46Vxo"
      },
      "id": "4sQlndD46Vxo",
      "execution_count": null,
      "outputs": []
    },
    {
      "cell_type": "code",
      "source": [],
      "metadata": {
        "id": "uW0hYcNJ6V0z"
      },
      "id": "uW0hYcNJ6V0z",
      "execution_count": null,
      "outputs": []
    },
    {
      "cell_type": "markdown",
      "source": [
        "### Model with One LSTM layer but Bidirectional  "
      ],
      "metadata": {
        "id": "yJ8pFNlb6Y7I"
      },
      "id": "yJ8pFNlb6Y7I"
    },
    {
      "cell_type": "code",
      "source": [
        "# Initialize model\n",
        "embedding_dim = 100\n",
        "hidden_dim = 256\n",
        "output_dim = 1\n",
        "n_layers = 2\n",
        "bidirectional=True\n",
        "dropout=0.5\n",
        "\n",
        "model2 = SentimentLSTM(\n",
        "    vocab_size=vocab_size,\n",
        "    embedding_dim=embedding_dim,\n",
        "    hidden_dim=hidden_dim,\n",
        "    output_dim=output_dim,\n",
        "    n_layers=n_layers,\n",
        "    bidirectional=bidirectional,\n",
        "    dropout=dropout\n",
        ")\n",
        "\n",
        "# Move model to GPU if available\n",
        "device = torch.device('cuda' if torch.cuda.is_available() else 'cpu')\n",
        "model2 = model2.to(device)\n",
        "print(f\"Model created and moved to {device}!\")\n",
        "print(model2)"
      ],
      "metadata": {
        "colab": {
          "base_uri": "https://localhost:8080/"
        },
        "id": "jaBDO5Yc6V-7",
        "outputId": "618016c8-31f2-47de-a451-0b346b0a0b0b"
      },
      "id": "jaBDO5Yc6V-7",
      "execution_count": 70,
      "outputs": [
        {
          "output_type": "stream",
          "name": "stdout",
          "text": [
            "Model created and moved to cuda!\n",
            "SentimentLSTM(\n",
            "  (embedding): Embedding(10000, 100, padding_idx=0)\n",
            "  (lstm): LSTM(100, 256, num_layers=2, batch_first=True, dropout=0.5, bidirectional=True)\n",
            "  (dropout): Dropout(p=0.5, inplace=False)\n",
            "  (fc): Linear(in_features=512, out_features=1, bias=True)\n",
            ")\n"
          ]
        }
      ]
    },
    {
      "cell_type": "code",
      "source": [
        "# Binary Cross Entropy Loss\n",
        "criterion = nn.BCEWithLogitsLoss()\n",
        "\n",
        "# Adam optimizer\n",
        "optimizer = optim.Adam(model2.parameters(), lr=0.001)\n",
        "\n",
        "print(\"Loss function and optimizer defined!\")"
      ],
      "metadata": {
        "colab": {
          "base_uri": "https://localhost:8080/"
        },
        "id": "dK0HfT6ICmUk",
        "outputId": "a860e8fd-b3cc-4729-b5ac-5eb37c28e687"
      },
      "id": "dK0HfT6ICmUk",
      "execution_count": 71,
      "outputs": [
        {
          "output_type": "stream",
          "name": "stdout",
          "text": [
            "Loss function and optimizer defined!\n"
          ]
        }
      ]
    },
    {
      "cell_type": "code",
      "source": [
        "n_epochs = 15\n",
        "\n",
        "# Lists to store metrics\n",
        "train_losses = []\n",
        "train_accs = []\n",
        "val_losses = []\n",
        "val_accs = []\n",
        "\n",
        "# Training loop\n",
        "for epoch in range(n_epochs):\n",
        "    print(f\"\\nEpoch {epoch+1}/{n_epochs}\")\n",
        "    print(\"-\" * 20)\n",
        "\n",
        "    # Train\n",
        "    train_loss, train_acc = train(model2, train_loader, optimizer, criterion)\n",
        "    train_losses.append(train_loss)\n",
        "    train_accs.append(train_acc)\n",
        "\n",
        "    # Evaluate\n",
        "    val_loss, val_acc = evaluate(model2, val_loader, criterion)\n",
        "    val_losses.append(val_loss)\n",
        "    val_accs.append(val_acc)\n",
        "\n",
        "    # Print metrics\n",
        "    print(f\"Train Loss: {train_loss:.4f} | Train Acc: {train_acc*100:.2f}%\")\n",
        "    print(f\"Val Loss: {val_loss:.4f} | Val Acc: {val_acc*100:.2f}%\")\n",
        "\n",
        "print(\"\\nTraining complete!\")"
      ],
      "metadata": {
        "colab": {
          "base_uri": "https://localhost:8080/"
        },
        "id": "hI_-Xzup6zwr",
        "outputId": "caf921a1-8fb2-4a66-d94f-4d8d29979198"
      },
      "id": "hI_-Xzup6zwr",
      "execution_count": 72,
      "outputs": [
        {
          "output_type": "stream",
          "name": "stdout",
          "text": [
            "\n",
            "Epoch 1/15\n",
            "--------------------\n"
          ]
        },
        {
          "output_type": "stream",
          "name": "stderr",
          "text": [
            "Training: 100%|██████████| 352/352 [00:28<00:00, 12.22it/s]\n",
            "Evaluating: 100%|██████████| 40/40 [00:01<00:00, 35.44it/s]\n"
          ]
        },
        {
          "output_type": "stream",
          "name": "stdout",
          "text": [
            "Train Loss: 0.6509 | Train Acc: 61.26%\n",
            "Val Loss: 0.5982 | Val Acc: 67.97%\n",
            "\n",
            "Epoch 2/15\n",
            "--------------------\n"
          ]
        },
        {
          "output_type": "stream",
          "name": "stderr",
          "text": [
            "Training: 100%|██████████| 352/352 [00:27<00:00, 12.61it/s]\n",
            "Evaluating: 100%|██████████| 40/40 [00:01<00:00, 36.16it/s]\n"
          ]
        },
        {
          "output_type": "stream",
          "name": "stdout",
          "text": [
            "Train Loss: 0.5426 | Train Acc: 72.85%\n",
            "Val Loss: 0.4881 | Val Acc: 77.46%\n",
            "\n",
            "Epoch 3/15\n",
            "--------------------\n"
          ]
        },
        {
          "output_type": "stream",
          "name": "stderr",
          "text": [
            "Training: 100%|██████████| 352/352 [00:27<00:00, 12.65it/s]\n",
            "Evaluating: 100%|██████████| 40/40 [00:01<00:00, 36.08it/s]\n"
          ]
        },
        {
          "output_type": "stream",
          "name": "stdout",
          "text": [
            "Train Loss: 0.4124 | Train Acc: 81.82%\n",
            "Val Loss: 0.4040 | Val Acc: 82.27%\n",
            "\n",
            "Epoch 4/15\n",
            "--------------------\n"
          ]
        },
        {
          "output_type": "stream",
          "name": "stderr",
          "text": [
            "Training: 100%|██████████| 352/352 [00:28<00:00, 12.40it/s]\n",
            "Evaluating: 100%|██████████| 40/40 [00:01<00:00, 35.84it/s]\n"
          ]
        },
        {
          "output_type": "stream",
          "name": "stdout",
          "text": [
            "Train Loss: 0.3348 | Train Acc: 85.79%\n",
            "Val Loss: 0.3974 | Val Acc: 81.52%\n",
            "\n",
            "Epoch 5/15\n",
            "--------------------\n"
          ]
        },
        {
          "output_type": "stream",
          "name": "stderr",
          "text": [
            "Training: 100%|██████████| 352/352 [00:28<00:00, 12.45it/s]\n",
            "Evaluating: 100%|██████████| 40/40 [00:01<00:00, 35.79it/s]\n"
          ]
        },
        {
          "output_type": "stream",
          "name": "stdout",
          "text": [
            "Train Loss: 0.2968 | Train Acc: 87.77%\n",
            "Val Loss: 0.3737 | Val Acc: 84.18%\n",
            "\n",
            "Epoch 6/15\n",
            "--------------------\n"
          ]
        },
        {
          "output_type": "stream",
          "name": "stderr",
          "text": [
            "Training: 100%|██████████| 352/352 [00:27<00:00, 12.58it/s]\n",
            "Evaluating: 100%|██████████| 40/40 [00:01<00:00, 36.14it/s]\n"
          ]
        },
        {
          "output_type": "stream",
          "name": "stdout",
          "text": [
            "Train Loss: 0.2485 | Train Acc: 90.22%\n",
            "Val Loss: 0.4278 | Val Acc: 83.44%\n",
            "\n",
            "Epoch 7/15\n",
            "--------------------\n"
          ]
        },
        {
          "output_type": "stream",
          "name": "stderr",
          "text": [
            "Training: 100%|██████████| 352/352 [00:28<00:00, 12.52it/s]\n",
            "Evaluating: 100%|██████████| 40/40 [00:01<00:00, 35.99it/s]\n"
          ]
        },
        {
          "output_type": "stream",
          "name": "stdout",
          "text": [
            "Train Loss: 0.2159 | Train Acc: 91.80%\n",
            "Val Loss: 0.3947 | Val Acc: 83.55%\n",
            "\n",
            "Epoch 8/15\n",
            "--------------------\n"
          ]
        },
        {
          "output_type": "stream",
          "name": "stderr",
          "text": [
            "Training: 100%|██████████| 352/352 [00:28<00:00, 12.50it/s]\n",
            "Evaluating: 100%|██████████| 40/40 [00:01<00:00, 35.87it/s]\n"
          ]
        },
        {
          "output_type": "stream",
          "name": "stdout",
          "text": [
            "Train Loss: 0.1749 | Train Acc: 93.61%\n",
            "Val Loss: 0.3983 | Val Acc: 85.47%\n",
            "\n",
            "Epoch 9/15\n",
            "--------------------\n"
          ]
        },
        {
          "output_type": "stream",
          "name": "stderr",
          "text": [
            "Training: 100%|██████████| 352/352 [00:27<00:00, 12.58it/s]\n",
            "Evaluating: 100%|██████████| 40/40 [00:01<00:00, 36.09it/s]\n"
          ]
        },
        {
          "output_type": "stream",
          "name": "stdout",
          "text": [
            "Train Loss: 0.1365 | Train Acc: 95.13%\n",
            "Val Loss: 0.4346 | Val Acc: 84.84%\n",
            "\n",
            "Epoch 10/15\n",
            "--------------------\n"
          ]
        },
        {
          "output_type": "stream",
          "name": "stderr",
          "text": [
            "Training: 100%|██████████| 352/352 [00:28<00:00, 12.46it/s]\n",
            "Evaluating: 100%|██████████| 40/40 [00:01<00:00, 35.56it/s]\n"
          ]
        },
        {
          "output_type": "stream",
          "name": "stdout",
          "text": [
            "Train Loss: 0.1037 | Train Acc: 96.38%\n",
            "Val Loss: 0.5402 | Val Acc: 83.98%\n",
            "\n",
            "Epoch 11/15\n",
            "--------------------\n"
          ]
        },
        {
          "output_type": "stream",
          "name": "stderr",
          "text": [
            "Training: 100%|██████████| 352/352 [00:29<00:00, 12.07it/s]\n",
            "Evaluating: 100%|██████████| 40/40 [00:01<00:00, 35.82it/s]\n"
          ]
        },
        {
          "output_type": "stream",
          "name": "stdout",
          "text": [
            "Train Loss: 0.0758 | Train Acc: 97.52%\n",
            "Val Loss: 0.5254 | Val Acc: 84.77%\n",
            "\n",
            "Epoch 12/15\n",
            "--------------------\n"
          ]
        },
        {
          "output_type": "stream",
          "name": "stderr",
          "text": [
            "Training: 100%|██████████| 352/352 [00:28<00:00, 12.37it/s]\n",
            "Evaluating: 100%|██████████| 40/40 [00:01<00:00, 32.89it/s]\n"
          ]
        },
        {
          "output_type": "stream",
          "name": "stdout",
          "text": [
            "Train Loss: 0.0643 | Train Acc: 97.88%\n",
            "Val Loss: 0.5690 | Val Acc: 84.77%\n",
            "\n",
            "Epoch 13/15\n",
            "--------------------\n"
          ]
        },
        {
          "output_type": "stream",
          "name": "stderr",
          "text": [
            "Training: 100%|██████████| 352/352 [00:28<00:00, 12.47it/s]\n",
            "Evaluating: 100%|██████████| 40/40 [00:01<00:00, 35.46it/s]\n"
          ]
        },
        {
          "output_type": "stream",
          "name": "stdout",
          "text": [
            "Train Loss: 0.0409 | Train Acc: 98.73%\n",
            "Val Loss: 0.6853 | Val Acc: 84.38%\n",
            "\n",
            "Epoch 14/15\n",
            "--------------------\n"
          ]
        },
        {
          "output_type": "stream",
          "name": "stderr",
          "text": [
            "Training: 100%|██████████| 352/352 [00:28<00:00, 12.40it/s]\n",
            "Evaluating: 100%|██████████| 40/40 [00:01<00:00, 35.38it/s]\n"
          ]
        },
        {
          "output_type": "stream",
          "name": "stdout",
          "text": [
            "Train Loss: 0.0340 | Train Acc: 99.00%\n",
            "Val Loss: 0.6273 | Val Acc: 83.83%\n",
            "\n",
            "Epoch 15/15\n",
            "--------------------\n"
          ]
        },
        {
          "output_type": "stream",
          "name": "stderr",
          "text": [
            "Training: 100%|██████████| 352/352 [00:28<00:00, 12.37it/s]\n",
            "Evaluating: 100%|██████████| 40/40 [00:01<00:00, 35.74it/s]"
          ]
        },
        {
          "output_type": "stream",
          "name": "stdout",
          "text": [
            "Train Loss: 0.0307 | Train Acc: 99.03%\n",
            "Val Loss: 0.7512 | Val Acc: 84.88%\n",
            "\n",
            "Training complete!\n"
          ]
        },
        {
          "output_type": "stream",
          "name": "stderr",
          "text": [
            "\n"
          ]
        }
      ]
    },
    {
      "cell_type": "code",
      "source": [
        "plt.figure(figsize=(12, 5))\n",
        "\n",
        "# Plot loss\n",
        "plt.subplot(1, 2, 1)\n",
        "plt.plot(train_losses, label='Train Loss')\n",
        "plt.plot(val_losses, label='Val Loss')\n",
        "plt.xlabel('Epoch')\n",
        "plt.ylabel('Loss')\n",
        "plt.title('Training and Validation Loss')\n",
        "plt.legend()\n",
        "\n",
        "# Plot accuracy\n",
        "plt.subplot(1, 2, 2)\n",
        "plt.plot(train_accs, label='Train Acc')\n",
        "plt.plot(val_accs, label='Val Acc')\n",
        "plt.xlabel('Epoch')\n",
        "plt.ylabel('Accuracy')\n",
        "plt.title('Training and Validation Accuracy')\n",
        "plt.legend()\n",
        "\n",
        "plt.tight_layout()\n",
        "plt.show()\n"
      ],
      "metadata": {
        "colab": {
          "base_uri": "https://localhost:8080/",
          "height": 507
        },
        "id": "gmUKAV3H65PL",
        "outputId": "9f69f3ed-f748-4580-8930-70d633a36aec"
      },
      "id": "gmUKAV3H65PL",
      "execution_count": 73,
      "outputs": [
        {
          "output_type": "display_data",
          "data": {
            "text/plain": [
              "<Figure size 1200x500 with 2 Axes>"
            ],
            "image/png": "[encoded data removed]"
          },
          "metadata": {}
        }
      ]
    },
    {
      "cell_type": "code",
      "source": [
        "test_loss, test_acc = evaluate(model2, test_loader, criterion)\n",
        "print(f\"Test Loss: {test_loss:.4f} | Test Acc: {test_acc*100:.2f}%\")\n"
      ],
      "metadata": {
        "colab": {
          "base_uri": "https://localhost:8080/"
        },
        "id": "Tq5OFVPs672J",
        "outputId": "4f4a431e-327f-4c86-f880-1d6d92431628"
      },
      "id": "Tq5OFVPs672J",
      "execution_count": 74,
      "outputs": [
        {
          "output_type": "stream",
          "name": "stderr",
          "text": [
            "Evaluating: 100%|██████████| 391/391 [00:11<00:00, 34.89it/s]"
          ]
        },
        {
          "output_type": "stream",
          "name": "stdout",
          "text": [
            "Test Loss: 0.7926 | Test Acc: 84.00%\n"
          ]
        },
        {
          "output_type": "stream",
          "name": "stderr",
          "text": [
            "\n"
          ]
        }
      ]
    },
    {
      "cell_type": "code",
      "source": [
        "# Test on some examples\n",
        "sample_reviews = [\n",
        "    \"This movie was absolutely amazing! The acting was superb and the plot was engaging.\",\n",
        "    \"I was thoroughly disappointed with this film. The story made no sense and the acting was terrible.\",\n",
        "    \"It was okay. Nothing special but not terrible either.\",\n",
        "    \"Despite some flaws in the plot, the movie had great visual effects and good performances.\"\n",
        "]\n",
        "\n",
        "print(\"Model predictions on sample reviews:\")\n",
        "for review in sample_reviews:\n",
        "    prob, sent = predict_sentiment(model2, review, vocab)\n",
        "    print(f\"Review: {review[:50]}...\")\n",
        "    print(f\"Sentiment: {sent} (probability: {prob:.4f})\")\n",
        "    print(\"-\" * 50)"
      ],
      "metadata": {
        "colab": {
          "base_uri": "https://localhost:8080/"
        },
        "id": "CAXkdaNz68wG",
        "outputId": "3a9c14e0-ad12-42fb-bf0f-63b3c37c8287"
      },
      "id": "CAXkdaNz68wG",
      "execution_count": 75,
      "outputs": [
        {
          "output_type": "stream",
          "name": "stdout",
          "text": [
            "Model predictions on sample reviews:\n",
            "Review: This movie was absolutely amazing! The acting was ...\n",
            "Sentiment: Positive (probability: 0.9991)\n",
            "--------------------------------------------------\n",
            "Review: I was thoroughly disappointed with this film. The ...\n",
            "Sentiment: Negative (probability: 0.0000)\n",
            "--------------------------------------------------\n",
            "Review: It was okay. Nothing special but not terrible eith...\n",
            "Sentiment: Negative (probability: 0.0024)\n",
            "--------------------------------------------------\n",
            "Review: Despite some flaws in the plot, the movie had grea...\n",
            "Sentiment: Positive (probability: 0.9967)\n",
            "--------------------------------------------------\n"
          ]
        }
      ]
    },
    {
      "cell_type": "code",
      "source": [],
      "metadata": {
        "id": "Y_MNRbk568z7"
      },
      "id": "Y_MNRbk568z7",
      "execution_count": null,
      "outputs": []
    },
    {
      "cell_type": "markdown",
      "source": [
        "### The two models same test accuracy as result BUTTTTT After the first 8 epochs using bidirectional = True i noticed that the model start to overfit on the training data with no improvement in validation data and this because bidirectional is more complex so need more data"
      ],
      "metadata": {
        "id": "EgbQE8vBJUG0"
      },
      "id": "EgbQE8vBJUG0"
    },
    {
      "cell_type": "code",
      "source": [],
      "metadata": {
        "id": "13xl7P4lKShw"
      },
      "id": "13xl7P4lKShw",
      "execution_count": null,
      "outputs": []
    }
  ],
  "metadata": {
    "kernelspec": {
      "display_name": "Python 3",
      "name": "python3"
    },
    "language_info": {
      "codemirror_mode": {
        "name": "ipython",
        "version": 3
      },
      "file_extension": ".py",
      "mimetype": "text/x-python",
      "name": "python",
      "nbconvert_exporter": "python",
      "pygments_lexer": "ipython3",
      "version": "3.12.4"
    },
    "colab": {
      "provenance": [],
      "gpuType": "T4"
    },
    "accelerator": "GPU"
  },
  "nbformat": 4,
  "nbformat_minor": 5
}